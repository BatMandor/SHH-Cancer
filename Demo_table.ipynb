{
 "cells": [
  {
   "cell_type": "code",
   "execution_count": 6,
   "id": "20546074",
   "metadata": {},
   "outputs": [
    {
     "data": {
      "text/plain": [
       "'\\n                        Gender\\n--------------------------------------------------------------------\\n            Female                        Male\\n--------------------------------------------------------------------\\nAGE\\n--------------------------------------------------------------------\\n    N\\n    Mean\\n    Range\\n--------------------------------------------------------------------\\nRACE\\n    White\\n    Black/African\\n    Hispanic/Latino\\n    Asian\\n    Chinese\\n\\n'"
      ]
     },
     "execution_count": 6,
     "metadata": {},
     "output_type": "execute_result"
    }
   ],
   "source": [
    "# making a table in pandas\n",
    "## STRUCTURE ##\n",
    "\n",
    "\"\"\"\n",
    "                        Gender\n",
    "--------------------------------------------------------------------\n",
    "         Female                        Male\n",
    "--------------------------------------------------------------------\n",
    "AGE\n",
    "--------------------------------------------------------------------\n",
    "    N\n",
    "    Mean\n",
    "    Range\n",
    "--------------------------------------------------------------------\n",
    "RACE\n",
    "    White\n",
    "    Black/African\n",
    "    Hispanic/Latino\n",
    "    Asian\n",
    "    Chinese\n",
    "\n",
    "\"\"\""
   ]
  },
  {
   "cell_type": "code",
   "execution_count": 1,
   "id": "e639bed6",
   "metadata": {},
   "outputs": [],
   "source": [
    "#imports\n",
    "import numpy as np\n",
    "import pandas as pd"
   ]
  },
  {
   "cell_type": "code",
   "execution_count": 2,
   "id": "5357308f",
   "metadata": {},
   "outputs": [],
   "source": [
    "clinical_data_file = \"final_edited_clinical_data.xlsx\"\n",
    "\n",
    "df = pd.read_excel(clinical_data_file,\n",
    "                   sheet_name=0,\n",
    "                   header=0,\n",
    "                   index_col=False,\n",
    "                   keep_default_na=True\n",
    "                   )"
   ]
  },
  {
   "cell_type": "code",
   "execution_count": 3,
   "id": "f0ec527b",
   "metadata": {},
   "outputs": [
    {
     "name": "stdout",
     "output_type": "stream",
     "text": [
      "     AGE      SEX      Ethnicity Category              Race Category\n",
      "0    63.0    Male                     NaN                        NaN\n",
      "1    66.0    Male                     NaN                        NaN\n",
      "2    79.0  Female  Not Hispanic Or Latino                      White\n",
      "3    59.0    Male  Not Hispanic Or Latino                      White\n",
      "4    63.0    Male      Hispanic Or Latino                      White\n",
      "..    ...     ...                     ...                        ...\n",
      "150  43.0  Female                     NaN                      Asian\n",
      "151  51.0  Female  Not Hispanic Or Latino  Black or African American\n",
      "152  72.0  Female  Not Hispanic Or Latino  Black or African American\n",
      "153  56.0  Female  Not Hispanic Or Latino                      White\n",
      "154  55.0  Female                     NaN                        NaN\n",
      "\n",
      "[155 rows x 4 columns]\n"
     ]
    }
   ],
   "source": [
    "print(df)"
   ]
  },
  {
   "cell_type": "code",
   "execution_count": null,
   "id": "0848f24b",
   "metadata": {},
   "outputs": [],
   "source": [
    "# here we are going to categorise the dataframe into the format that was shown above\n",
    "\n"
   ]
  }
 ],
 "metadata": {
  "kernelspec": {
   "display_name": "Python 3 (ipykernel)",
   "language": "python",
   "name": "python3"
  },
  "language_info": {
   "codemirror_mode": {
    "name": "ipython",
    "version": 3
   },
   "file_extension": ".py",
   "mimetype": "text/x-python",
   "name": "python",
   "nbconvert_exporter": "python",
   "pygments_lexer": "ipython3",
   "version": "3.11.5"
  }
 },
 "nbformat": 4,
 "nbformat_minor": 5
}
