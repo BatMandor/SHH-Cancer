{
 "cells": [
  {
   "cell_type": "code",
   "execution_count": 3,
   "id": "20546074",
   "metadata": {},
   "outputs": [
    {
     "data": {
      "text/plain": [
       "'\\n                                Gender\\n--------------------------------------------------------------------\\n                   Female                           Male\\n--------------------------------------------------------------------\\nAGE\\n--------------------------------------------------------------------\\n    N\\n    Mean\\n    Range\\n--------------------------------------------------------------------\\nRACE\\n    White\\n    Black/African\\n    Hispanic/Latino\\n    Asian\\n    Chinese\\n\\n'"
      ]
     },
     "execution_count": 3,
     "metadata": {},
     "output_type": "execute_result"
    }
   ],
   "source": [
    "# making a table in pandas\n",
    "## STRUCTURE ##\n",
    "\n",
    "\"\"\"\n",
    "                                Gender\n",
    "--------------------------------------------------------------------\n",
    "                   Female                           Male\n",
    "--------------------------------------------------------------------\n",
    "AGE\n",
    "--------------------------------------------------------------------\n",
    "    N\n",
    "    Mean\n",
    "    Range\n",
    "--------------------------------------------------------------------\n",
    "RACE\n",
    "    White\n",
    "    Black/African\n",
    "    Hispanic/Latino\n",
    "    Asian\n",
    "    Chinese\n",
    "\n",
    "\"\"\""
   ]
  },
  {
   "cell_type": "code",
   "execution_count": 3,
   "id": "e639bed6",
   "metadata": {},
   "outputs": [],
   "source": [
    "#imports\n",
    "import numpy as np\n",
    "import pandas as pd\n"
   ]
  },
  {
   "cell_type": "code",
   "execution_count": null,
   "id": "a4959ee8",
   "metadata": {},
   "outputs": [],
   "source": [
    "pip install zentables "
   ]
  },
  {
   "cell_type": "code",
   "execution_count": 4,
   "id": "5357308f",
   "metadata": {},
   "outputs": [],
   "source": [
    "clinical_data_file = \"final_edited_clinical_data.xlsx\"\n",
    "\n",
    "df = pd.read_excel(clinical_data_file,\n",
    "                   sheet_name=0,\n",
    "                   header=0,\n",
    "                   index_col=False,\n",
    "                   keep_default_na=True\n",
    "                   )"
   ]
  },
  {
   "cell_type": "code",
   "execution_count": 3,
   "id": "f0ec527b",
   "metadata": {},
   "outputs": [
    {
     "name": "stdout",
     "output_type": "stream",
     "text": [
      "     Age      SEX      Ethnicity Category              Race_Category\n",
      "0    63.0    Male                     NaN                        NaN\n",
      "1    66.0    Male                     NaN                        NaN\n",
      "2    79.0  Female  Not Hispanic Or Latino                      White\n",
      "3    59.0    Male  Not Hispanic Or Latino                      White\n",
      "4    63.0    Male      Hispanic Or Latino                      White\n",
      "..    ...     ...                     ...                        ...\n",
      "150  43.0  Female                     NaN                      Asian\n",
      "151  51.0  Female  Not Hispanic Or Latino  Black or African American\n",
      "152  72.0  Female  Not Hispanic Or Latino  Black or African American\n",
      "153  56.0  Female  Not Hispanic Or Latino                      White\n",
      "154  55.0  Female                     NaN                        NaN\n",
      "\n",
      "[155 rows x 4 columns]\n",
      "Index(['Age ', 'SEX', 'Ethnicity Category', 'Race_Category'], dtype='object')\n"
     ]
    }
   ],
   "source": [
    "print(df)\n",
    "print(df.columns)\n",
    "\n"
   ]
  },
  {
   "cell_type": "code",
   "execution_count": 4,
   "id": "21d15a85",
   "metadata": {},
   "outputs": [
    {
     "name": "stdout",
     "output_type": "stream",
     "text": [
      "                                           count            mean       \n",
      "SEX                                       Female Male     Female   Male\n",
      "Race_Category                                                          \n",
      "Asian                                          3    2  55.666667  60.50\n",
      "Black or African American                      5    2  59.600000  62.50\n",
      "Caucasian                                      0    3   0.000000  64.00\n",
      "Native Hawaiian or Other Pacific Islander      1    0  55.000000   0.00\n",
      "Other/Unavailable/Not Reported                 0    1   0.000000   0.00\n",
      "White                                         22   20  55.954545  63.05\n",
      "White Non-Hispanic                             0    0        NaN    NaN\n"
     ]
    }
   ],
   "source": [
    "import pandas as pd\n",
    "\n",
    "# Load data into a pandas DataFrame\n",
    "clinical_data_file = \"final_edited_clinical_data.xlsx\"\n",
    "df = pd.read_excel(clinical_data_file)\n",
    "\n",
    "\n",
    "\n",
    "df['SEX'] = df['SEX'].str.title()\n",
    "\n",
    "\n",
    "\n",
    "# Create a pivot table\n",
    "pivot_df = pd.pivot_table(df,\n",
    "                          values='Age ', \n",
    "                          index='Race_Category',  \n",
    "                          columns='SEX',\n",
    "                          aggfunc=['count', 'mean'],\n",
    "                          fill_value=0)\n",
    "\n",
    "# Print the pivot table\n",
    "print(pivot_df)\n"
   ]
  },
  {
   "cell_type": "code",
   "execution_count": 1,
   "id": "f16639e4",
   "metadata": {},
   "outputs": [
    {
     "name": "stdout",
     "output_type": "stream",
     "text": [
      "Defaulting to user installation because normal site-packages is not writeable\n",
      "Collecting openpyxl\n",
      "  Downloading openpyxl-3.1.2-py2.py3-none-any.whl.metadata (2.5 kB)\n",
      "Collecting et-xmlfile (from openpyxl)\n",
      "  Downloading et_xmlfile-1.1.0-py3-none-any.whl.metadata (1.8 kB)\n",
      "Downloading openpyxl-3.1.2-py2.py3-none-any.whl (249 kB)\n",
      "   ---------------------------------------- 0.0/250.0 kB ? eta -:--:--\n",
      "   - -------------------------------------- 10.2/250.0 kB ? eta -:--:--\n",
      "   ------------------------ --------------- 153.6/250.0 kB 3.1 MB/s eta 0:00:01\n",
      "   ---------------------------------------- 250.0/250.0 kB 2.6 MB/s eta 0:00:00\n",
      "Downloading et_xmlfile-1.1.0-py3-none-any.whl (4.7 kB)\n",
      "Installing collected packages: et-xmlfile, openpyxl\n",
      "Successfully installed et-xmlfile-1.1.0 openpyxl-3.1.2\n"
     ]
    }
   ],
   "source": [
    "!pip install openpyxl"
   ]
  },
  {
   "cell_type": "code",
   "execution_count": 5,
   "id": "e90cc9b8",
   "metadata": {},
   "outputs": [
    {
     "name": "stdout",
     "output_type": "stream",
     "text": [
      "| index                                     | Female             | Male               |\n",
      "|:------------------------------------------|:-------------------|:-------------------|\n",
      "| N                                         | 59                 | 68                 |\n",
      "| Mean                                      | 60.007118644067795 | 61.921617647058824 |\n",
      "| Range                                     | 0.0 - 90.0         | 0.0 - 90.0         |\n",
      "| Asian                                     | 3                  | 2                  |\n",
      "| Black or African American                 | 5                  | 2                  |\n",
      "| Caucasian                                 | 0                  | 3                  |\n",
      "| Native Hawaiian or Other Pacific Islander | 1                  | 0                  |\n",
      "| Other/Unavailable/Not Reported            | 0                  | 1                  |\n",
      "| White                                     | 22                 | 20                 |\n",
      "| White Non-Hispanic                        | 0                  | 1                  |\n"
     ]
    }
   ],
   "source": [
    "# Standardise \n",
    "df['SEX'] = df['SEX'].str.title()\n",
    "\n",
    "\n",
    "age_summary = df.groupby('SEX')['Age '].agg(['count', 'mean', 'min', 'max']) \n",
    "age_summary['Range'] = age_summary.apply(lambda x: f\"{x['min']} - {x['max']}\", axis=1)\n",
    "age_summary = age_summary[['count', 'mean', 'Range']]\n",
    "age_summary.rename(columns={'count': 'N', 'mean': 'Mean'}, inplace=True)\n",
    "\n",
    "race_counts = df.groupby('SEX')['Race_Category'].value_counts().unstack(fill_value=0)   combined_stats = pd.concat([age_summary, race_counts], axis=1)\n",
    "\n",
    "\n",
    "combined_stats = combined_stats.T\n",
    "combined_stats.reset_index(inplace=True)\n",
    "\n",
    "\n",
    "# Converting to Markdown\n",
    "table_markdown = combined_stats.to_markdown(index=False)\n",
    "print(table_markdown)\n"
   ]
  },
  {
   "cell_type": "code",
   "execution_count": 41,
   "id": "ee0797d4",
   "metadata": {},
   "outputs": [
    {
     "name": "stdout",
     "output_type": "stream",
     "text": [
      "The combined statistics have been exported to 'combined_stats.xlsx'.\n"
     ]
    }
   ],
   "source": [
    "import pandas as pd\n",
    "\n",
    "# Standardise the gender categories\n",
    "df['SEX'] = df['SEX'].str.title()\n",
    "\n",
    "# Calculate AGE statistics\n",
    "age_stats = df.groupby('SEX')['Age '].agg(['count', 'mean', 'min', 'max']).rename(columns={'count': 'N', 'mean': 'Mean'})\n",
    "age_stats['Range'] = age_stats.apply(lambda x: f\"{x['min']} - {x['max']}\", axis=1)\n",
    "age_stats.drop(['min', 'max'], axis=1, inplace=True)\n",
    "\n",
    "# Calculate RACE counts\n",
    "race_counts = df.groupby(['SEX', 'Race_Category']).size().unstack(fill_value=0)\n",
    "\n",
    "# Combine AGE and RACE statistics into a single DataFrame\n",
    "combined_stats = pd.concat([age_stats, race_counts], axis=1)\n",
    "combined_stats.reset_index(inplace=True)\n",
    "\n",
    "\n",
    "# Export the DataFrame to Excel\n",
    "combined_stats.to_excel('combined_stats.xlsx', index=False)\n",
    "\n",
    "print(\"The combined statistics have been exported to 'combined_stats.xlsx'.\")\n",
    "\n"
   ]
  },
  {
   "cell_type": "code",
   "execution_count": null,
   "id": "9e552c6b",
   "metadata": {},
   "outputs": [],
   "source": [
    "#Attempting to use zentables to create an APA style table from the df in the code chunk before the one before this \n",
    "\n",
    "\n",
    "import pandas as pd\n",
    "import numpy as np\n",
    "import zentables as zen\n",
    "\n",
    "# Load data into a pandas DataFrame\n",
    "clinical_data_file = \"final_edited_clinical_data.xlsx\"\n",
    "df = pd.read_excel(clinical_data_file)\n",
    "\n",
    "\n",
    "df['SEX'] = df['SEX'].str.title()\n",
    "\n",
    "# Calculate AGE statistics\n",
    "age_stats = df.groupby('SEX')['Age '].agg(['count', 'mean', 'min', 'max']).rename(columns={'count': 'N', 'mean': 'Mean'})\n",
    "age_stats['Range'] = age_stats.apply(lambda x: f\"{x['min']} - {x['max']}\", axis=1)\n",
    "age_stats.drop(['min', 'max'], axis=1, inplace=True)\n",
    "\n",
    "# Calculate RACE counts\n",
    "race_counts = df.groupby(['SEX', 'Race_Category']).size().unstack(fill_value=0)\n",
    "\n",
    "# Combine AGE and RACE statistics\n",
    "combined_stats = pd.concat([age_stats, race_counts])\n",
    "\n",
    "\n",
    "\n",
    "# Display table using zentables\n",
    "zen_table = zen(combined_stats, apa=True, columns=['Female', 'Male'])\n",
    "\n",
    "Zen_table #Jupyter output \n"
   ]
  }
 ],
 "metadata": {
  "kernelspec": {
   "display_name": "Python 3 (ipykernel)",
   "language": "python",
   "name": "python3"
  },
  "language_info": {
   "codemirror_mode": {
    "name": "ipython",
    "version": 3
   },
   "file_extension": ".py",
   "mimetype": "text/x-python",
   "name": "python",
   "nbconvert_exporter": "python",
   "pygments_lexer": "ipython3",
   "version": "3.12.2"
  }
 },
 "nbformat": 4,
 "nbformat_minor": 5
}
